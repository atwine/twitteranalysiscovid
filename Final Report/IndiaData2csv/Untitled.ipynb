{
 "cells": [
  {
   "cell_type": "code",
   "execution_count": 1,
   "metadata": {},
   "outputs": [],
   "source": [
    "import pandas as pd"
   ]
  },
  {
   "cell_type": "code",
   "execution_count": 2,
   "metadata": {},
   "outputs": [
    {
     "name": "stdout",
     "output_type": "stream",
     "text": [
      "corona.csv     covid.csv  stayathome.csv      Untitled.ipynb  wash_ur_hands.csv\r\n",
      "covid19Ug.csv  ncov.csv   StaysafeUg_All.csv  vaccine.csv     wearamask.csv\r\n"
     ]
    }
   ],
   "source": [
    "!ls\n"
   ]
  },
  {
   "cell_type": "code",
   "execution_count": 3,
   "metadata": {},
   "outputs": [],
   "source": [
    "import glob\n",
    "\n",
    "data = pd.DataFrame()\n",
    "for file_name in glob.glob('./*.csv'):\n",
    "    x = pd.read_csv(file_name, low_memory=False)\n",
    "    data = pd.concat([data,x],axis=0)\n"
   ]
  },
  {
   "cell_type": "code",
   "execution_count": 4,
   "metadata": {},
   "outputs": [
    {
     "data": {
      "text/plain": [
       "(1063939, 18)"
      ]
     },
     "execution_count": 4,
     "metadata": {},
     "output_type": "execute_result"
    }
   ],
   "source": [
    "data.shape"
   ]
  },
  {
   "cell_type": "code",
   "execution_count": 5,
   "metadata": {},
   "outputs": [
    {
     "data": {
      "text/html": [
       "<div>\n",
       "<style scoped>\n",
       "    .dataframe tbody tr th:only-of-type {\n",
       "        vertical-align: middle;\n",
       "    }\n",
       "\n",
       "    .dataframe tbody tr th {\n",
       "        vertical-align: top;\n",
       "    }\n",
       "\n",
       "    .dataframe thead th {\n",
       "        text-align: right;\n",
       "    }\n",
       "</style>\n",
       "<table border=\"1\" class=\"dataframe\">\n",
       "  <thead>\n",
       "    <tr style=\"text-align: right;\">\n",
       "      <th></th>\n",
       "      <th>Tweet Id</th>\n",
       "      <th>Tweet Posted Time (UTC)</th>\n",
       "      <th>Tweet Content</th>\n",
       "      <th>Retweeted Screen Name</th>\n",
       "      <th>Tweet Type</th>\n",
       "      <th>Client</th>\n",
       "      <th>Retweets Received</th>\n",
       "      <th>Favourites Received</th>\n",
       "      <th>Tweet Location</th>\n",
       "      <th>Tweet Language</th>\n",
       "      <th>Name</th>\n",
       "      <th>Screen Name</th>\n",
       "      <th>Verified or Non-Verified</th>\n",
       "      <th>User Followers</th>\n",
       "      <th>User Following</th>\n",
       "      <th>Favourites Count</th>\n",
       "      <th>Statuses Count</th>\n",
       "      <th>User Account Creation Date</th>\n",
       "    </tr>\n",
       "  </thead>\n",
       "  <tbody>\n",
       "    <tr>\n",
       "      <th>0</th>\n",
       "      <td>\"1321555606831091714\"</td>\n",
       "      <td>28 Oct 2020 20:53:04</td>\n",
       "      <td>RT @CDCgov: Amy Kirby and Mia Mattioli are spe...</td>\n",
       "      <td>CDCgov</td>\n",
       "      <td>ReTweet</td>\n",
       "      <td>Twitter for Android</td>\n",
       "      <td>0</td>\n",
       "      <td>0</td>\n",
       "      <td>Kampala, Uganda</td>\n",
       "      <td>English</td>\n",
       "      <td>muhoozi brian</td>\n",
       "      <td>brianmuhoozi</td>\n",
       "      <td>Non-Verified</td>\n",
       "      <td>217</td>\n",
       "      <td>1163</td>\n",
       "      <td>5442</td>\n",
       "      <td>5494</td>\n",
       "      <td>10 Feb 2015 16:24:25</td>\n",
       "    </tr>\n",
       "    <tr>\n",
       "      <th>1</th>\n",
       "      <td>\"1316342612333391872\"</td>\n",
       "      <td>14 Oct 2020 11:38:29</td>\n",
       "      <td>RT @US_EUCOM: The @CDC recommends you wear mas...</td>\n",
       "      <td>US_EUCOM</td>\n",
       "      <td>ReTweet</td>\n",
       "      <td>Twitter for Android</td>\n",
       "      <td>0</td>\n",
       "      <td>0</td>\n",
       "      <td>Jinja,Uganda</td>\n",
       "      <td>English</td>\n",
       "      <td>muzira andrew</td>\n",
       "      <td>Mars694Muzira</td>\n",
       "      <td>Non-Verified</td>\n",
       "      <td>409</td>\n",
       "      <td>834</td>\n",
       "      <td>25794</td>\n",
       "      <td>16183</td>\n",
       "      <td>29 Aug 2014 10:31:07</td>\n",
       "    </tr>\n",
       "    <tr>\n",
       "      <th>2</th>\n",
       "      <td>\"1312643559686897669\"</td>\n",
       "      <td>04 Oct 2020 06:39:47</td>\n",
       "      <td>RT @JenniferNuzzo: ATTN close contacts of #COV...</td>\n",
       "      <td>JenniferNuzzo</td>\n",
       "      <td>ReTweet</td>\n",
       "      <td>Twitter for Android</td>\n",
       "      <td>0</td>\n",
       "      <td>0</td>\n",
       "      <td>Kampala</td>\n",
       "      <td>English</td>\n",
       "      <td>Peter Ahabwe BABIGUMIRA</td>\n",
       "      <td>ahabwe_pharma</td>\n",
       "      <td>Non-Verified</td>\n",
       "      <td>511</td>\n",
       "      <td>1314</td>\n",
       "      <td>1392</td>\n",
       "      <td>11082</td>\n",
       "      <td>03 Nov 2016 09:46:03</td>\n",
       "    </tr>\n",
       "    <tr>\n",
       "      <th>3</th>\n",
       "      <td>\"1309451847082672130\"</td>\n",
       "      <td>25 Sep 2020 11:17:03</td>\n",
       "      <td>RT @healthgovau: This daily infographic provid...</td>\n",
       "      <td>healthgovau</td>\n",
       "      <td>ReTweet</td>\n",
       "      <td>Twitter for Android</td>\n",
       "      <td>0</td>\n",
       "      <td>0</td>\n",
       "      <td>Kampala, Uganda</td>\n",
       "      <td>English</td>\n",
       "      <td>Australia Alumni Association of Uganda (A3-U)</td>\n",
       "      <td>australia_u</td>\n",
       "      <td>Non-Verified</td>\n",
       "      <td>23</td>\n",
       "      <td>51</td>\n",
       "      <td>286</td>\n",
       "      <td>84</td>\n",
       "      <td>23 Aug 2020 10:20:33</td>\n",
       "    </tr>\n",
       "  </tbody>\n",
       "</table>\n",
       "</div>"
      ],
      "text/plain": [
       "                Tweet Id Tweet Posted Time (UTC)  \\\n",
       "0  \"1321555606831091714\"    28 Oct 2020 20:53:04   \n",
       "1  \"1316342612333391872\"    14 Oct 2020 11:38:29   \n",
       "2  \"1312643559686897669\"    04 Oct 2020 06:39:47   \n",
       "3  \"1309451847082672130\"    25 Sep 2020 11:17:03   \n",
       "\n",
       "                                       Tweet Content Retweeted Screen Name  \\\n",
       "0  RT @CDCgov: Amy Kirby and Mia Mattioli are spe...                CDCgov   \n",
       "1  RT @US_EUCOM: The @CDC recommends you wear mas...              US_EUCOM   \n",
       "2  RT @JenniferNuzzo: ATTN close contacts of #COV...         JenniferNuzzo   \n",
       "3  RT @healthgovau: This daily infographic provid...           healthgovau   \n",
       "\n",
       "  Tweet Type               Client  Retweets Received  Favourites Received  \\\n",
       "0    ReTweet  Twitter for Android                  0                    0   \n",
       "1    ReTweet  Twitter for Android                  0                    0   \n",
       "2    ReTweet  Twitter for Android                  0                    0   \n",
       "3    ReTweet  Twitter for Android                  0                    0   \n",
       "\n",
       "    Tweet Location Tweet Language  \\\n",
       "0  Kampala, Uganda        English   \n",
       "1     Jinja,Uganda        English   \n",
       "2          Kampala        English   \n",
       "3  Kampala, Uganda        English   \n",
       "\n",
       "                                            Name    Screen Name  \\\n",
       "0                                  muhoozi brian   brianmuhoozi   \n",
       "1                                  muzira andrew  Mars694Muzira   \n",
       "2                        Peter Ahabwe BABIGUMIRA  ahabwe_pharma   \n",
       "3  Australia Alumni Association of Uganda (A3-U)    australia_u   \n",
       "\n",
       "  Verified or Non-Verified  User Followers  User Following  Favourites Count  \\\n",
       "0             Non-Verified             217            1163              5442   \n",
       "1             Non-Verified             409             834             25794   \n",
       "2             Non-Verified             511            1314              1392   \n",
       "3             Non-Verified              23              51               286   \n",
       "\n",
       "   Statuses Count User Account Creation Date  \n",
       "0            5494       10 Feb 2015 16:24:25  \n",
       "1           16183       29 Aug 2014 10:31:07  \n",
       "2           11082       03 Nov 2016 09:46:03  \n",
       "3              84       23 Aug 2020 10:20:33  "
      ]
     },
     "execution_count": 5,
     "metadata": {},
     "output_type": "execute_result"
    }
   ],
   "source": [
    "data.head(4)"
   ]
  },
  {
   "cell_type": "code",
   "execution_count": 25,
   "metadata": {},
   "outputs": [],
   "source": [
    "data.drop_duplicates(subset='Tweet Id', inplace = True)"
   ]
  },
  {
   "cell_type": "code",
   "execution_count": 26,
   "metadata": {},
   "outputs": [],
   "source": [
    "data.to_csv(\"new_india.csv\",index=False)"
   ]
  },
  {
   "cell_type": "code",
   "execution_count": null,
   "metadata": {},
   "outputs": [],
   "source": []
  }
 ],
 "metadata": {
  "kernelspec": {
   "display_name": "Python 3",
   "language": "python",
   "name": "python3"
  },
  "language_info": {
   "codemirror_mode": {
    "name": "ipython",
    "version": 3
   },
   "file_extension": ".py",
   "mimetype": "text/x-python",
   "name": "python",
   "nbconvert_exporter": "python",
   "pygments_lexer": "ipython3",
   "version": "3.6.9"
  }
 },
 "nbformat": 4,
 "nbformat_minor": 2
}

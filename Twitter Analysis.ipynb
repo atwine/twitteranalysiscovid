{
 "cells": [
  {
   "cell_type": "markdown",
   "metadata": {},
   "source": [
    "# Simple Twitter Analysis\n",
    "\n",
    "By: Atwine Mugume Twinamatsiko"
   ]
  },
  {
   "cell_type": "code",
   "execution_count": 1,
   "metadata": {},
   "outputs": [],
   "source": [
    "#import the necessary libraries\n",
    "import tweepy\n",
    "import json\n",
    "import time\n",
    "\n",
    "#let's try to read this data with pandas\n",
    "import pandas as pd\n",
    "import numpy as np\n",
    "import matplotlib.pyplot as plt\n",
    "import seaborn as sns\n",
    "\n",
    "#this will help us to work with the streaming API\n",
    "import slistener as sl\n",
    "\n",
    "#consumer key, consumer secret, access token, access secret.\n",
    "ckey=\"tLolJ53qD8C7MzxWOynytE7Wr\"\n",
    "csecret=\"k7XtFldKsnWwY85FAUE1BMrmKFSQT9ZvIsxWLhXdnRmiZ8H2LY\"\n",
    "atoken=\"2400788581-SqJ2TljEPI7GEKZa67AoDPGUZr3DqEUJ7cBp5Ng\"\n",
    "asecret=\"tnPy4kKayWeIZt6lN1iCY1C1cnzC7PKrlTSJXAD1iXvIX\"\n",
    "\n",
    "# Instantiating objects of authentication \n",
    "auth = tweepy.OAuthHandler(ckey, csecret)\n",
    "auth.set_access_token(atoken, asecret)"
   ]
  },
  {
   "cell_type": "code",
   "execution_count": 2,
   "metadata": {},
   "outputs": [],
   "source": [
    "# Creation of the actual interface, using authentication\n",
    "api = tweepy.API(auth)"
   ]
  },
  {
   "cell_type": "code",
   "execution_count": null,
   "metadata": {},
   "outputs": [],
   "source": [
    "#run this cell to download data\n",
    "# from tweepy import Stream\n",
    "\n",
    "# Set up words to track\n",
    "keywords_to_track = ['#Covid19UG','#Uganda','#STAYSAFEUG']\n",
    "\n",
    "# Instantiate the SListener object \n",
    "listen = sl.SListener(api)\n",
    "\n",
    "# Instantiate the Stream object\n",
    "stream = Stream(auth, listen)\n",
    "\n",
    "# Begin collecting data\n",
    "stream.filter(track = keywords_to_track)"
   ]
  },
  {
   "cell_type": "code",
   "execution_count": null,
   "metadata": {},
   "outputs": [],
   "source": []
  },
  {
   "cell_type": "markdown",
   "metadata": {},
   "source": [
    "# Reading the Data"
   ]
  },
  {
   "cell_type": "code",
   "execution_count": 5,
   "metadata": {},
   "outputs": [],
   "source": [
    "# Where you put the data of twitter stream\n",
    "tweets_data_path = 'data.json'"
   ]
  },
  {
   "cell_type": "code",
   "execution_count": 3,
   "metadata": {},
   "outputs": [],
   "source": [
    "# this function will help us flatten the tweets so that we will be able to get\n",
    "# the extended tweet versions of the text.\n",
    "def flatten_tweets(tweets_file):\n",
    "    \"\"\" Flattens out tweet dictionaries so relevant JSON\n",
    "        is in a top-level dictionary.\"\"\"\n",
    "    \n",
    "    tweets_json = open( tweets_file, \"r\")\n",
    "    \n",
    "    tweets_list = []\n",
    "    \n",
    "    # Iterate through each tweet\n",
    "    for tweet in tweets_json:\n",
    "        tweet_obj = json.loads(tweet)\n",
    "    \n",
    "        # Store the user screen name in 'user-screen_name'\n",
    "        tweet_obj['user-screen_name'] = tweet_obj['user']['screen_name']\n",
    "    \n",
    "        # Check if this is a 140+ character tweet\n",
    "        if 'extended_tweet' in tweet_obj:\n",
    "            # Store the extended tweet text in 'extended_tweet-full_text'\n",
    "            tweet_obj['extended_tweet-full_text'] = tweet_obj['extended_tweet']['full_text']\n",
    "    \n",
    "        if 'retweeted_status' in tweet_obj:\n",
    "            # Store the retweet user screen name in 'retweeted_status-user-screen_name'\n",
    "            tweet_obj['retweeted_status-user-screen_name'] = tweet_obj['retweeted_status']['user']['screen_name']\n",
    "\n",
    "            # Store the retweet text in 'retweeted_status-text'\n",
    "            tweet_obj['retweeted_status-text'] = tweet_obj['retweeted_status']['text']\n",
    "            \n",
    "        tweets_list.append(tweet_obj)\n",
    "    return tweets_list"
   ]
  },
  {
   "cell_type": "code",
   "execution_count": 6,
   "metadata": {},
   "outputs": [],
   "source": [
    "tweets = flatten_tweets(tweets_data_path)"
   ]
  },
  {
   "cell_type": "code",
   "execution_count": 7,
   "metadata": {},
   "outputs": [
    {
     "name": "stdout",
     "output_type": "stream",
     "text": [
      "['RT @OleItumbi: UGANDAN President @KagutaMuseveni\\nshows the country how to exercise at home in bid to discourage evening walks #StayAtHome #…'\n",
      " 'RT @nbstv: Ugandan citizen Samuel Kimbowa who fetches water for a living donated UGX5000 to aid the government in the fight against #COVID1…'\n",
      " 'I hereby challenge Presidents Uhuru, Kagame, Nkurunziza, Kiir and Magufuri to the #WorkoutFromHome challenge East A… https://t.co/rdCrUAPkQ5'\n",
      " 'RT @KM_thoni: Not only is he coming for daily TV presenters, now fitness influencers need to watch out too.\\n\\nAnyway, please stay in your ho…'\n",
      " '@KagutaMuseveni A President with a personality\\nFeeling very inspired to stay home #COVID19UG']\n"
     ]
    }
   ],
   "source": [
    "# Create a DataFrame from `tweets`\n",
    "ds_tweets = pd.DataFrame(tweets)\n",
    "\n",
    "# Print out the first 5 tweets from this dataset\n",
    "print(ds_tweets['text'].values[0:5])"
   ]
  },
  {
   "cell_type": "code",
   "execution_count": 27,
   "metadata": {},
   "outputs": [
    {
     "data": {
      "text/plain": [
       "(885, 40)"
      ]
     },
     "execution_count": 27,
     "metadata": {},
     "output_type": "execute_result"
    }
   ],
   "source": [
    "ds_tweets.shape"
   ]
  },
  {
   "cell_type": "code",
   "execution_count": 29,
   "metadata": {},
   "outputs": [
    {
     "data": {
      "text/html": [
       "<div>\n",
       "<style scoped>\n",
       "    .dataframe tbody tr th:only-of-type {\n",
       "        vertical-align: middle;\n",
       "    }\n",
       "\n",
       "    .dataframe tbody tr th {\n",
       "        vertical-align: top;\n",
       "    }\n",
       "\n",
       "    .dataframe thead th {\n",
       "        text-align: right;\n",
       "    }\n",
       "</style>\n",
       "<table border=\"1\" class=\"dataframe\">\n",
       "  <thead>\n",
       "    <tr style=\"text-align: right;\">\n",
       "      <th></th>\n",
       "      <th>text</th>\n",
       "    </tr>\n",
       "  </thead>\n",
       "  <tbody>\n",
       "    <tr>\n",
       "      <th>0</th>\n",
       "      <td>RT @OleItumbi: UGANDAN President @KagutaMuseve...</td>\n",
       "    </tr>\n",
       "    <tr>\n",
       "      <th>1</th>\n",
       "      <td>RT @nbstv: Ugandan citizen Samuel Kimbowa who ...</td>\n",
       "    </tr>\n",
       "    <tr>\n",
       "      <th>2</th>\n",
       "      <td>I hereby challenge Presidents Uhuru, Kagame, N...</td>\n",
       "    </tr>\n",
       "    <tr>\n",
       "      <th>3</th>\n",
       "      <td>RT @KM_thoni: Not only is he coming for daily ...</td>\n",
       "    </tr>\n",
       "    <tr>\n",
       "      <th>4</th>\n",
       "      <td>@KagutaMuseveni A President with a personality...</td>\n",
       "    </tr>\n",
       "    <tr>\n",
       "      <th>...</th>\n",
       "      <td>...</td>\n",
       "    </tr>\n",
       "    <tr>\n",
       "      <th>880</th>\n",
       "      <td>RT @nbstv: Ugandan citizen Samuel Kimbowa who ...</td>\n",
       "    </tr>\n",
       "    <tr>\n",
       "      <th>881</th>\n",
       "      <td>RT @AKasingye: Tell Tugume ngu akanyanga. She ...</td>\n",
       "    </tr>\n",
       "    <tr>\n",
       "      <th>882</th>\n",
       "      <td>The hairstyle is scary in these trying times 😷😥</td>\n",
       "    </tr>\n",
       "    <tr>\n",
       "      <th>883</th>\n",
       "      <td>RT @newvisionwire: QUOTE OF THE DAY\\n\\n\"God ca...</td>\n",
       "    </tr>\n",
       "    <tr>\n",
       "      <th>884</th>\n",
       "      <td>Do your work out from home. Yes Sevo! Another ...</td>\n",
       "    </tr>\n",
       "  </tbody>\n",
       "</table>\n",
       "<p>885 rows × 1 columns</p>\n",
       "</div>"
      ],
      "text/plain": [
       "                                                  text\n",
       "0    RT @OleItumbi: UGANDAN President @KagutaMuseve...\n",
       "1    RT @nbstv: Ugandan citizen Samuel Kimbowa who ...\n",
       "2    I hereby challenge Presidents Uhuru, Kagame, N...\n",
       "3    RT @KM_thoni: Not only is he coming for daily ...\n",
       "4    @KagutaMuseveni A President with a personality...\n",
       "..                                                 ...\n",
       "880  RT @nbstv: Ugandan citizen Samuel Kimbowa who ...\n",
       "881  RT @AKasingye: Tell Tugume ngu akanyanga. She ...\n",
       "882    The hairstyle is scary in these trying times 😷😥\n",
       "883  RT @newvisionwire: QUOTE OF THE DAY\\n\\n\"God ca...\n",
       "884  Do your work out from home. Yes Sevo! Another ...\n",
       "\n",
       "[885 rows x 1 columns]"
      ]
     },
     "execution_count": 29,
     "metadata": {},
     "output_type": "execute_result"
    }
   ],
   "source": [
    "ds_tweets[['text']]"
   ]
  },
  {
   "cell_type": "code",
   "execution_count": 80,
   "metadata": {},
   "outputs": [
    {
     "name": "stdout",
     "output_type": "stream",
     "text": [
      "The total % corona is talked about is:  2 %\n"
     ]
    }
   ],
   "source": [
    "#since I have collected some of the data that is general.\n",
    "#I would like to know how many times the tweet is related to corona\n",
    "count_corona = ds_tweets['text'].str.contains('#corona', case = False)\n",
    "\n",
    "#let's find the parcentage\n",
    "print(\"The total % corona is talked about is: \",(round(sum(count_corona)/ds_tweets.shape[0]*100)),\"%\")"
   ]
  },
  {
   "cell_type": "markdown",
   "metadata": {},
   "source": [
    "Recall that relevant text may not only be in the main text field of the tweet. It may also be in the `extended_tweet`, the `retweeted_status`, or the `quoted_status`. We need to check all of these fields to make sure we've accounted for all the of the relevant text. We'll do this often so we're going to create a function which does this.\n",
    "\n",
    "### Function here below."
   ]
  },
  {
   "cell_type": "code",
   "execution_count": 70,
   "metadata": {},
   "outputs": [],
   "source": [
    "def check_word_in_tweet(word, data):\n",
    "    \"\"\"Checks if a word is in a Twitter dataset's text. \n",
    "    Checks text and extended tweet (140+ character tweets) for tweets,\n",
    "    retweets and quoted tweets.\n",
    "    Returns a logical pandas Series.\n",
    "    \"\"\"\n",
    "    contains_column = data['text'].str.contains(word, case = False)\n",
    "    contains_column |= data['extended_tweet-full_text'].str.contains(word, case = False)\n",
    "    contains_column |= data['extended_tweet'].str.contains(word, case = False) \n",
    "     #contains_column |= data['quoted_status-extended_tweet-full_text'].str.contains(word, case = False) \n",
    "    contains_column |= data['retweeted_status-text'].str.contains(word, case = False) \n",
    "     #contains_column |= data['retweeted_status-extended_tweet-full_text'].str.contains(word, case = False)\n",
    "    return contains_column"
   ]
  },
  {
   "cell_type": "code",
   "execution_count": 82,
   "metadata": {},
   "outputs": [
    {
     "data": {
      "text/plain": [
       "9.830508474576272"
      ]
     },
     "execution_count": 82,
     "metadata": {},
     "output_type": "execute_result"
    }
   ],
   "source": [
    "sum(check_word_in_tweet('corona',ds_tweets))/ds_tweets.shape[0]*100 +\\\n",
    "sum(check_word_in_tweet('#corona',ds_tweets))/ds_tweets.shape[0]*100\n",
    "\n",
    "#this tells us that out of the total 899 tweets only about 10% are related \n",
    "#to corona virus, I dont think this could be the case for a country like Italy.\n"
   ]
  },
  {
   "cell_type": "code",
   "execution_count": 83,
   "metadata": {},
   "outputs": [],
   "source": [
    "# time analysis"
   ]
  },
  {
   "cell_type": "code",
   "execution_count": 84,
   "metadata": {},
   "outputs": [
    {
     "data": {
      "text/html": [
       "<div>\n",
       "<style scoped>\n",
       "    .dataframe tbody tr th:only-of-type {\n",
       "        vertical-align: middle;\n",
       "    }\n",
       "\n",
       "    .dataframe tbody tr th {\n",
       "        vertical-align: top;\n",
       "    }\n",
       "\n",
       "    .dataframe thead th {\n",
       "        text-align: right;\n",
       "    }\n",
       "</style>\n",
       "<table border=\"1\" class=\"dataframe\">\n",
       "  <thead>\n",
       "    <tr style=\"text-align: right;\">\n",
       "      <th></th>\n",
       "      <th>created_at</th>\n",
       "      <th>id</th>\n",
       "      <th>id_str</th>\n",
       "      <th>text</th>\n",
       "      <th>source</th>\n",
       "      <th>truncated</th>\n",
       "      <th>in_reply_to_status_id</th>\n",
       "      <th>in_reply_to_status_id_str</th>\n",
       "      <th>in_reply_to_user_id</th>\n",
       "      <th>in_reply_to_user_id_str</th>\n",
       "      <th>...</th>\n",
       "      <th>lang</th>\n",
       "      <th>timestamp_ms</th>\n",
       "      <th>user-screen_name</th>\n",
       "      <th>retweeted_status-user-screen_name</th>\n",
       "      <th>retweeted_status-text</th>\n",
       "      <th>extended_tweet</th>\n",
       "      <th>extended_tweet-full_text</th>\n",
       "      <th>possibly_sensitive</th>\n",
       "      <th>extended_entities</th>\n",
       "      <th>display_text_range</th>\n",
       "    </tr>\n",
       "  </thead>\n",
       "  <tbody>\n",
       "    <tr>\n",
       "      <th>0</th>\n",
       "      <td>Thu Apr 09 15:22:18 +0000 2020</td>\n",
       "      <td>1248270016480448512</td>\n",
       "      <td>1248270016480448512</td>\n",
       "      <td>RT @OleItumbi: UGANDAN President @KagutaMuseve...</td>\n",
       "      <td>&lt;a href=\"https://mobile.twitter.com\" rel=\"nofo...</td>\n",
       "      <td>False</td>\n",
       "      <td>NaN</td>\n",
       "      <td>None</td>\n",
       "      <td>NaN</td>\n",
       "      <td>None</td>\n",
       "      <td>...</td>\n",
       "      <td>en</td>\n",
       "      <td>1586445738321</td>\n",
       "      <td>BrianRop17</td>\n",
       "      <td>OleItumbi</td>\n",
       "      <td>UGANDAN President @KagutaMuseveni\\nshows the c...</td>\n",
       "      <td>NaN</td>\n",
       "      <td>NaN</td>\n",
       "      <td>NaN</td>\n",
       "      <td>NaN</td>\n",
       "      <td>NaN</td>\n",
       "    </tr>\n",
       "  </tbody>\n",
       "</table>\n",
       "<p>1 rows × 40 columns</p>\n",
       "</div>"
      ],
      "text/plain": [
       "                       created_at                   id               id_str  \\\n",
       "0  Thu Apr 09 15:22:18 +0000 2020  1248270016480448512  1248270016480448512   \n",
       "\n",
       "                                                text  \\\n",
       "0  RT @OleItumbi: UGANDAN President @KagutaMuseve...   \n",
       "\n",
       "                                              source  truncated  \\\n",
       "0  <a href=\"https://mobile.twitter.com\" rel=\"nofo...      False   \n",
       "\n",
       "   in_reply_to_status_id in_reply_to_status_id_str  in_reply_to_user_id  \\\n",
       "0                    NaN                      None                  NaN   \n",
       "\n",
       "  in_reply_to_user_id_str  ... lang   timestamp_ms user-screen_name  \\\n",
       "0                    None  ...   en  1586445738321       BrianRop17   \n",
       "\n",
       "  retweeted_status-user-screen_name  \\\n",
       "0                         OleItumbi   \n",
       "\n",
       "                               retweeted_status-text extended_tweet  \\\n",
       "0  UGANDAN President @KagutaMuseveni\\nshows the c...            NaN   \n",
       "\n",
       "  extended_tweet-full_text  possibly_sensitive extended_entities  \\\n",
       "0                      NaN                 NaN               NaN   \n",
       "\n",
       "  display_text_range  \n",
       "0                NaN  \n",
       "\n",
       "[1 rows x 40 columns]"
      ]
     },
     "execution_count": 84,
     "metadata": {},
     "output_type": "execute_result"
    }
   ],
   "source": [
    "ds_tweets.head(1)"
   ]
  },
  {
   "cell_type": "code",
   "execution_count": 86,
   "metadata": {
    "scrolled": true
   },
   "outputs": [],
   "source": [
    "#change the date to a datetime variable\n",
    "ds_tweets['created_at'] = pd.to_datetime(ds_tweets['created_at'])\n",
    "\n",
    "#change the index of the whole dataset\n",
    "\n",
    "ds_tweets.set_index('created_at',inplace= True)"
   ]
  },
  {
   "cell_type": "code",
   "execution_count": 95,
   "metadata": {},
   "outputs": [],
   "source": [
    "#let's resample over a time of 5 minutes\n",
    "#this means we shall use the resample method on the datetime column\n",
    "#it will help us count over time the prevalence of the word.\n",
    "\n",
    "ds_tweets['corona'] = check_word_in_tweet('corona',ds_tweets)\n",
    "\n",
    "mean_corona = ds_tweets['corona'].resample('10 min').mean()\n",
    "#we use resample to measure means over the total 5 min windows\n",
    "#it will show us for every 5 mins when do people talk about corona\n"
   ]
  },
  {
   "cell_type": "code",
   "execution_count": 96,
   "metadata": {},
   "outputs": [
    {
     "data": {
      "text/plain": [
       "created_at\n",
       "2020-04-09 15:20:00+00:00    0.085106\n",
       "2020-04-09 15:30:00+00:00    0.058824\n",
       "2020-04-09 15:40:00+00:00    0.065217\n",
       "Freq: 10T, Name: corona, dtype: float64"
      ]
     },
     "execution_count": 96,
     "metadata": {},
     "output_type": "execute_result"
    }
   ],
   "source": [
    "#let's have a look.\n",
    "mean_corona.head(3)"
   ]
  },
  {
   "cell_type": "code",
   "execution_count": 97,
   "metadata": {},
   "outputs": [
    {
     "data": {
      "image/png": "[encoded data removed]",
      "text/plain": [
       "<Figure size 432x288 with 1 Axes>"
      ]
     },
     "metadata": {},
     "output_type": "display_data"
    }
   ],
   "source": [
    "#let's plot the sequence\n",
    "\n",
    "plt.plot(mean_corona.index.minute, \n",
    "    mean_corona, color = 'green')\n",
    "plt.xlabel('Minute')\n",
    "plt.ylabel('Frequency')\n",
    "plt.title('Corona Mentions')\n",
    "plt.show()"
   ]
  },
  {
   "cell_type": "markdown",
   "metadata": {},
   "source": [
    "### Sentiment Analysis."
   ]
  },
  {
   "cell_type": "code",
   "execution_count": 104,
   "metadata": {},
   "outputs": [
    {
     "name": "stderr",
     "output_type": "stream",
     "text": [
      "[nltk_data] Downloading package vader_lexicon to\n",
      "[nltk_data]     /home/amugume/nltk_data...\n"
     ]
    },
    {
     "data": {
      "text/plain": [
       "True"
      ]
     },
     "execution_count": 104,
     "metadata": {},
     "output_type": "execute_result"
    }
   ],
   "source": [
    "import nltk\n",
    "nltk.download('vader_lexicon')"
   ]
  },
  {
   "cell_type": "code",
   "execution_count": 105,
   "metadata": {},
   "outputs": [],
   "source": [
    "# Load SentimentIntensityAnalyzer\n",
    "from nltk.sentiment.vader import SentimentIntensityAnalyzer\n",
    "\n",
    "# Instantiate new SentimentIntensityAnalyzer\n",
    "sid = SentimentIntensityAnalyzer()\n",
    "\n",
    "# Generate sentiment scores\n",
    "sentiment_scores = ds_tweets['text'].apply(sid.polarity_scores)"
   ]
  },
  {
   "cell_type": "code",
   "execution_count": 124,
   "metadata": {},
   "outputs": [],
   "source": [
    "sentiment = sentiment_scores.apply(lambda x: x['compound'])"
   ]
  },
  {
   "cell_type": "code",
   "execution_count": 126,
   "metadata": {},
   "outputs": [
    {
     "name": "stdout",
     "output_type": "stream",
     "text": [
      "@KagutaMuseveni A President with a personality\n",
      "Feeling very inspired to stay home #COVID19UG\n",
      "\n",
      "\n",
      "RT @ntvuganda: JUST IN: @PoliceUg in Kireka has impounded a @MinofHealthUG van for violating the emergency health guidelines specifically s…\n"
     ]
    }
   ],
   "source": [
    "# Print out the text of a positive tweet\n",
    "print(ds_tweets[sentiment > 0.6]['text'].values[0])\n",
    "\n",
    "print('\\n')\n",
    "# Print out the text of a negative tweet\n",
    "print(ds_tweets[sentiment < -0.6]['text'].values[0])\n",
    "\n",
    "# Generate average sentiment scores for #python\n",
    "sentiment_py = sentiment[ check_word_in_tweet('corona', ds_tweets) ].resample('5 m').mean()\n",
    "\n",
    "# Generate average sentiment scores for #rstats\n",
    "sentiment_r = sentiment[ check_word_in_tweet('corona', ds_tweets) ].resample('5 m').mean()"
   ]
  },
  {
   "cell_type": "code",
   "execution_count": null,
   "metadata": {},
   "outputs": [],
   "source": []
  },
  {
   "cell_type": "code",
   "execution_count": null,
   "metadata": {},
   "outputs": [],
   "source": []
  },
  {
   "cell_type": "code",
   "execution_count": null,
   "metadata": {},
   "outputs": [],
   "source": []
  },
  {
   "cell_type": "markdown",
   "metadata": {},
   "source": [
    "### Trying to collect historical data"
   ]
  },
  {
   "cell_type": "code",
   "execution_count": null,
   "metadata": {},
   "outputs": [],
   "source": [
    "# Initializing a listener class that streams Twitter status\n",
    "class StdOutListener(tweepy.StreamListener):\n",
    "#     Create an init statement\n",
    "    def __init__(self, start_time, time_limit=100):\n",
    "        self.time = start_time\n",
    "        self.limit = time_limit\n",
    "        self.tweet_data = []\n",
    "    \n",
    "#     Defining what you are going to do based on data\n",
    "    def on_data(self, data):\n",
    "        try:\n",
    "#             Opening data for streaming\n",
    "            with open('output.json', 'a') as f:\n",
    "                f.write(data)\n",
    "                return True\n",
    "        except KeyboardInterrupt:\n",
    "            print(\"Twitter Download is interrupted\")\n",
    "        except BaseException as e:\n",
    "            print(str(e))\n",
    "        return True\n",
    "\n",
    "    def on_error(self, status):\n",
    "        print (status)"
   ]
  },
  {
   "cell_type": "raw",
   "metadata": {},
   "source": [
    "#This handles Twitter authetification and the connection to Twitter Streaming API\n",
    "keywords_to_track = ['#Covid19UG','#Uganda','#STAYSAFEUG']\n",
    "start_time = time.strptime(\"7 Apr 20\", \"%d %b %y\")    \n",
    "l = StdOutListener(start_time)\n",
    "strm = tweepy.Stream(auth, l)\n",
    "# Begin collecting data\n",
    "strm.filter(track = keywords_to_track)"
   ]
  },
  {
   "cell_type": "code",
   "execution_count": null,
   "metadata": {},
   "outputs": [],
   "source": []
  },
  {
   "cell_type": "markdown",
   "metadata": {},
   "source": [
    "### Other things I tried"
   ]
  },
  {
   "cell_type": "code",
   "execution_count": 3,
   "metadata": {},
   "outputs": [
    {
     "name": "stdout",
     "output_type": "stream",
     "text": [
      "885\n"
     ]
    }
   ],
   "source": [
    "\n",
    "\n",
    "# tweets_data_path = 'dataset/US_election_data.txt'\n",
    "tweets_data = []\n",
    "tweets_file = open(tweets_data_path, \"r\")\n",
    "\n",
    "for line in tweets_file:\n",
    "    try:\n",
    "        tweet = json.loads(line)\n",
    "        tweets_data.append(tweet)\n",
    "    except:\n",
    "        continue\n",
    "\n",
    "# Printing the length of the tweets data\n",
    "print (len(tweets_data))"
   ]
  },
  {
   "cell_type": "code",
   "execution_count": 17,
   "metadata": {
    "scrolled": true
   },
   "outputs": [
    {
     "data": {
      "text/plain": [
       "[{'created_at': 'Thu Apr 09 15:22:18 +0000 2020',\n",
       "  'id': 1248270016480448512,\n",
       "  'id_str': '1248270016480448512',\n",
       "  'text': 'RT @OleItumbi: UGANDAN President @KagutaMuseveni\\nshows the country how to exercise at home in bid to discourage evening walks #StayAtHome #…',\n",
       "  'source': '<a href=\"https://mobile.twitter.com\" rel=\"nofollow\">Mobile Web (M2)</a>',\n",
       "  'truncated': False,\n",
       "  'in_reply_to_status_id': None,\n",
       "  'in_reply_to_status_id_str': None,\n",
       "  'in_reply_to_user_id': None,\n",
       "  'in_reply_to_user_id_str': None,\n",
       "  'in_reply_to_screen_name': None,\n",
       "  'user': {'id': 743339255087259648,\n",
       "   'id_str': '743339255087259648',\n",
       "   'name': 'Brian',\n",
       "   'screen_name': 'BrianRop17',\n",
       "   'location': None,\n",
       "   'url': None,\n",
       "   'description': None,\n",
       "   'translator_type': 'none',\n",
       "   'protected': False,\n",
       "   'verified': False,\n",
       "   'followers_count': 174,\n",
       "   'friends_count': 328,\n",
       "   'listed_count': 0,\n",
       "   'favourites_count': 1516,\n",
       "   'statuses_count': 1903,\n",
       "   'created_at': 'Thu Jun 16 07:07:43 +0000 2016',\n",
       "   'utc_offset': None,\n",
       "   'time_zone': None,\n",
       "   'geo_enabled': False,\n",
       "   'lang': None,\n",
       "   'contributors_enabled': False,\n",
       "   'is_translator': False,\n",
       "   'profile_background_color': 'F5F8FA',\n",
       "   'profile_background_image_url': '',\n",
       "   'profile_background_image_url_https': '',\n",
       "   'profile_background_tile': False,\n",
       "   'profile_link_color': '1DA1F2',\n",
       "   'profile_sidebar_border_color': 'C0DEED',\n",
       "   'profile_sidebar_fill_color': 'DDEEF6',\n",
       "   'profile_text_color': '333333',\n",
       "   'profile_use_background_image': True,\n",
       "   'profile_image_url': 'http://pbs.twimg.com/profile_images/1218860126041530369/JLWaOr9i_normal.png',\n",
       "   'profile_image_url_https': 'https://pbs.twimg.com/profile_images/1218860126041530369/JLWaOr9i_normal.png',\n",
       "   'default_profile': True,\n",
       "   'default_profile_image': False,\n",
       "   'following': None,\n",
       "   'follow_request_sent': None,\n",
       "   'notifications': None},\n",
       "  'geo': None,\n",
       "  'coordinates': None,\n",
       "  'place': None,\n",
       "  'contributors': None,\n",
       "  'retweeted_status': {'created_at': 'Thu Apr 09 14:51:00 +0000 2020',\n",
       "   'id': 1248262139669774336,\n",
       "   'id_str': '1248262139669774336',\n",
       "   'text': 'UGANDAN President @KagutaMuseveni\\nshows the country how to exercise at home in bid to discourage evening walks… https://t.co/LQwaEGMrOr',\n",
       "   'display_text_range': [0, 140],\n",
       "   'source': '<a href=\"http://twitter.com/download/android\" rel=\"nofollow\">Twitter for Android</a>',\n",
       "   'truncated': True,\n",
       "   'in_reply_to_status_id': None,\n",
       "   'in_reply_to_status_id_str': None,\n",
       "   'in_reply_to_user_id': None,\n",
       "   'in_reply_to_user_id_str': None,\n",
       "   'in_reply_to_screen_name': None,\n",
       "   'user': {'id': 68382599,\n",
       "    'id_str': '68382599',\n",
       "    'name': 'Dennis Itumbi, HSC',\n",
       "    'screen_name': 'OleItumbi',\n",
       "    'location': 'Nairobi',\n",
       "    'url': 'http://www.dennisitumbi.com',\n",
       "    'description': 'Fact. Fearless. Free.\\n\\nCommunication & Digital Strategist & Critic\\n\\nI sell Ideas. Design Election strategies and Write Poetry.\\n\\nPig & Avocado Farmer.',\n",
       "    'translator_type': 'none',\n",
       "    'protected': False,\n",
       "    'verified': True,\n",
       "    'followers_count': 955299,\n",
       "    'friends_count': 6425,\n",
       "    'listed_count': 406,\n",
       "    'favourites_count': 5511,\n",
       "    'statuses_count': 50768,\n",
       "    'created_at': 'Mon Aug 24 11:04:27 +0000 2009',\n",
       "    'utc_offset': None,\n",
       "    'time_zone': None,\n",
       "    'geo_enabled': True,\n",
       "    'lang': None,\n",
       "    'contributors_enabled': False,\n",
       "    'is_translator': False,\n",
       "    'profile_background_color': '0099B9',\n",
       "    'profile_background_image_url': 'http://abs.twimg.com/images/themes/theme4/bg.gif',\n",
       "    'profile_background_image_url_https': 'https://abs.twimg.com/images/themes/theme4/bg.gif',\n",
       "    'profile_background_tile': True,\n",
       "    'profile_link_color': '0099B9',\n",
       "    'profile_sidebar_border_color': '5ED4DC',\n",
       "    'profile_sidebar_fill_color': '95E8EC',\n",
       "    'profile_text_color': '3C3940',\n",
       "    'profile_use_background_image': True,\n",
       "    'profile_image_url': 'http://pbs.twimg.com/profile_images/929687353047879680/axbzJqaf_normal.jpg',\n",
       "    'profile_image_url_https': 'https://pbs.twimg.com/profile_images/929687353047879680/axbzJqaf_normal.jpg',\n",
       "    'profile_banner_url': 'https://pbs.twimg.com/profile_banners/68382599/1416695348',\n",
       "    'default_profile': False,\n",
       "    'default_profile_image': False,\n",
       "    'following': None,\n",
       "    'follow_request_sent': None,\n",
       "    'notifications': None},\n",
       "   'geo': None,\n",
       "   'coordinates': None,\n",
       "   'place': None,\n",
       "   'contributors': None,\n",
       "   'quoted_status_id': 1248228289006702592,\n",
       "   'quoted_status_id_str': '1248228289006702592',\n",
       "   'quoted_status': {'created_at': 'Thu Apr 09 12:36:29 +0000 2020',\n",
       "    'id': 1248228289006702592,\n",
       "    'id_str': '1248228289006702592',\n",
       "    'text': 'Just like I had earlier promised, I started my day with indoor exercising. https://t.co/vsTT9Ho6To',\n",
       "    'display_text_range': [0, 74],\n",
       "    'source': '<a href=\"https://mobile.twitter.com\" rel=\"nofollow\">Twitter Web App</a>',\n",
       "    'truncated': False,\n",
       "    'in_reply_to_status_id': None,\n",
       "    'in_reply_to_status_id_str': None,\n",
       "    'in_reply_to_user_id': None,\n",
       "    'in_reply_to_user_id_str': None,\n",
       "    'in_reply_to_screen_name': None,\n",
       "    'user': {'id': 126955629,\n",
       "     'id_str': '126955629',\n",
       "     'name': 'Yoweri K Museveni',\n",
       "     'screen_name': 'KagutaMuseveni',\n",
       "     'location': 'Uganda',\n",
       "     'url': 'http://www.yowerikmuseveni.com',\n",
       "     'description': 'President of the Republic of Uganda',\n",
       "     'translator_type': 'none',\n",
       "     'protected': False,\n",
       "     'verified': True,\n",
       "     'followers_count': 1439347,\n",
       "     'friends_count': 28,\n",
       "     'listed_count': 799,\n",
       "     'favourites_count': 70,\n",
       "     'statuses_count': 6487,\n",
       "     'created_at': 'Sat Mar 27 15:08:09 +0000 2010',\n",
       "     'utc_offset': None,\n",
       "     'time_zone': None,\n",
       "     'geo_enabled': False,\n",
       "     'lang': None,\n",
       "     'contributors_enabled': False,\n",
       "     'is_translator': False,\n",
       "     'profile_background_color': 'BDBDBD',\n",
       "     'profile_background_image_url': 'http://abs.twimg.com/images/themes/theme19/bg.gif',\n",
       "     'profile_background_image_url_https': 'https://abs.twimg.com/images/themes/theme19/bg.gif',\n",
       "     'profile_background_tile': False,\n",
       "     'profile_link_color': 'BDBDBD',\n",
       "     'profile_sidebar_border_color': 'FFFFFF',\n",
       "     'profile_sidebar_fill_color': 'FFFFB5',\n",
       "     'profile_text_color': '242424',\n",
       "     'profile_use_background_image': False,\n",
       "     'profile_image_url': 'http://pbs.twimg.com/profile_images/1136681927057039362/0TTcjIFK_normal.png',\n",
       "     'profile_image_url_https': 'https://pbs.twimg.com/profile_images/1136681927057039362/0TTcjIFK_normal.png',\n",
       "     'profile_banner_url': 'https://pbs.twimg.com/profile_banners/126955629/1528179873',\n",
       "     'default_profile': False,\n",
       "     'default_profile_image': False,\n",
       "     'following': None,\n",
       "     'follow_request_sent': None,\n",
       "     'notifications': None},\n",
       "    'geo': None,\n",
       "    'coordinates': None,\n",
       "    'place': None,\n",
       "    'contributors': None,\n",
       "    'is_quote_status': False,\n",
       "    'quote_count': 1889,\n",
       "    'reply_count': 2343,\n",
       "    'retweet_count': 4236,\n",
       "    'favorite_count': 14616,\n",
       "    'entities': {'hashtags': [],\n",
       "     'urls': [],\n",
       "     'user_mentions': [],\n",
       "     'symbols': [],\n",
       "     'media': [{'id': 1248225479955337217,\n",
       "       'id_str': '1248225479955337217',\n",
       "       'indices': [75, 98],\n",
       "       'media_url': 'http://pbs.twimg.com/media/EVKWdexUUAEwBZp.jpg',\n",
       "       'media_url_https': 'https://pbs.twimg.com/media/EVKWdexUUAEwBZp.jpg',\n",
       "       'url': 'https://t.co/vsTT9Ho6To',\n",
       "       'display_url': 'pic.twitter.com/vsTT9Ho6To',\n",
       "       'expanded_url': 'https://twitter.com/KagutaMuseveni/status/1248228289006702592/photo/1',\n",
       "       'type': 'photo',\n",
       "       'sizes': {'large': {'w': 2048, 'h': 1211, 'resize': 'fit'},\n",
       "        'thumb': {'w': 150, 'h': 150, 'resize': 'crop'},\n",
       "        'medium': {'w': 1200, 'h': 710, 'resize': 'fit'},\n",
       "        'small': {'w': 680, 'h': 402, 'resize': 'fit'}}}]},\n",
       "    'extended_entities': {'media': [{'id': 1248225479955337217,\n",
       "       'id_str': '1248225479955337217',\n",
       "       'indices': [75, 98],\n",
       "       'media_url': 'http://pbs.twimg.com/media/EVKWdexUUAEwBZp.jpg',\n",
       "       'media_url_https': 'https://pbs.twimg.com/media/EVKWdexUUAEwBZp.jpg',\n",
       "       'url': 'https://t.co/vsTT9Ho6To',\n",
       "       'display_url': 'pic.twitter.com/vsTT9Ho6To',\n",
       "       'expanded_url': 'https://twitter.com/KagutaMuseveni/status/1248228289006702592/photo/1',\n",
       "       'type': 'photo',\n",
       "       'sizes': {'large': {'w': 2048, 'h': 1211, 'resize': 'fit'},\n",
       "        'thumb': {'w': 150, 'h': 150, 'resize': 'crop'},\n",
       "        'medium': {'w': 1200, 'h': 710, 'resize': 'fit'},\n",
       "        'small': {'w': 680, 'h': 402, 'resize': 'fit'}}},\n",
       "      {'id': 1248225479917580290,\n",
       "       'id_str': '1248225479917580290',\n",
       "       'indices': [75, 98],\n",
       "       'media_url': 'http://pbs.twimg.com/media/EVKWdeoUMAI0Hol.jpg',\n",
       "       'media_url_https': 'https://pbs.twimg.com/media/EVKWdeoUMAI0Hol.jpg',\n",
       "       'url': 'https://t.co/vsTT9Ho6To',\n",
       "       'display_url': 'pic.twitter.com/vsTT9Ho6To',\n",
       "       'expanded_url': 'https://twitter.com/KagutaMuseveni/status/1248228289006702592/photo/1',\n",
       "       'type': 'photo',\n",
       "       'sizes': {'medium': {'w': 1200, 'h': 685, 'resize': 'fit'},\n",
       "        'small': {'w': 680, 'h': 388, 'resize': 'fit'},\n",
       "        'thumb': {'w': 150, 'h': 150, 'resize': 'crop'},\n",
       "        'large': {'w': 2048, 'h': 1169, 'resize': 'fit'}}}]},\n",
       "    'favorited': False,\n",
       "    'retweeted': False,\n",
       "    'possibly_sensitive': False,\n",
       "    'filter_level': 'low',\n",
       "    'lang': 'en'},\n",
       "   'quoted_status_permalink': {'url': 'https://t.co/KlDZSEQn2S',\n",
       "    'expanded': 'https://twitter.com/KagutaMuseveni/status/1248228289006702592',\n",
       "    'display': 'twitter.com/KagutaMuseveni…'},\n",
       "   'is_quote_status': True,\n",
       "   'extended_tweet': {'full_text': 'UGANDAN President @KagutaMuseveni\\nshows the country how to exercise at home in bid to discourage evening walks #StayAtHome #COVID19UG #COVIDー19 https://t.co/KlDZSEQn2S',\n",
       "    'display_text_range': [0, 143],\n",
       "    'entities': {'hashtags': [{'text': 'StayAtHome', 'indices': [111, 122]},\n",
       "      {'text': 'COVID19UG', 'indices': [123, 133]},\n",
       "      {'text': 'COVIDー19', 'indices': [134, 143]}],\n",
       "     'urls': [{'url': 'https://t.co/KlDZSEQn2S',\n",
       "       'expanded_url': 'https://twitter.com/KagutaMuseveni/status/1248228289006702592',\n",
       "       'display_url': 'twitter.com/KagutaMuseveni…',\n",
       "       'indices': [144, 167]}],\n",
       "     'user_mentions': [{'screen_name': 'KagutaMuseveni',\n",
       "       'name': 'Yoweri K Museveni',\n",
       "       'id': 126955629,\n",
       "       'id_str': '126955629',\n",
       "       'indices': [18, 33]}],\n",
       "     'symbols': []}},\n",
       "   'quote_count': 4,\n",
       "   'reply_count': 7,\n",
       "   'retweet_count': 10,\n",
       "   'favorite_count': 54,\n",
       "   'entities': {'hashtags': [],\n",
       "    'urls': [{'url': 'https://t.co/LQwaEGMrOr',\n",
       "      'expanded_url': 'https://twitter.com/i/web/status/1248262139669774336',\n",
       "      'display_url': 'twitter.com/i/web/status/1…',\n",
       "      'indices': [112, 135]}],\n",
       "    'user_mentions': [{'screen_name': 'KagutaMuseveni',\n",
       "      'name': 'Yoweri K Museveni',\n",
       "      'id': 126955629,\n",
       "      'id_str': '126955629',\n",
       "      'indices': [18, 33]}],\n",
       "    'symbols': []},\n",
       "   'favorited': False,\n",
       "   'retweeted': False,\n",
       "   'possibly_sensitive': False,\n",
       "   'filter_level': 'low',\n",
       "   'lang': 'en'},\n",
       "  'quoted_status_id': 1248228289006702592,\n",
       "  'quoted_status_id_str': '1248228289006702592',\n",
       "  'quoted_status': {'created_at': 'Thu Apr 09 12:36:29 +0000 2020',\n",
       "   'id': 1248228289006702592,\n",
       "   'id_str': '1248228289006702592',\n",
       "   'text': 'Just like I had earlier promised, I started my day with indoor exercising. https://t.co/vsTT9Ho6To',\n",
       "   'display_text_range': [0, 74],\n",
       "   'source': '<a href=\"https://mobile.twitter.com\" rel=\"nofollow\">Twitter Web App</a>',\n",
       "   'truncated': False,\n",
       "   'in_reply_to_status_id': None,\n",
       "   'in_reply_to_status_id_str': None,\n",
       "   'in_reply_to_user_id': None,\n",
       "   'in_reply_to_user_id_str': None,\n",
       "   'in_reply_to_screen_name': None,\n",
       "   'user': {'id': 126955629,\n",
       "    'id_str': '126955629',\n",
       "    'name': 'Yoweri K Museveni',\n",
       "    'screen_name': 'KagutaMuseveni',\n",
       "    'location': 'Uganda',\n",
       "    'url': 'http://www.yowerikmuseveni.com',\n",
       "    'description': 'President of the Republic of Uganda',\n",
       "    'translator_type': 'none',\n",
       "    'protected': False,\n",
       "    'verified': True,\n",
       "    'followers_count': 1439347,\n",
       "    'friends_count': 28,\n",
       "    'listed_count': 799,\n",
       "    'favourites_count': 70,\n",
       "    'statuses_count': 6487,\n",
       "    'created_at': 'Sat Mar 27 15:08:09 +0000 2010',\n",
       "    'utc_offset': None,\n",
       "    'time_zone': None,\n",
       "    'geo_enabled': False,\n",
       "    'lang': None,\n",
       "    'contributors_enabled': False,\n",
       "    'is_translator': False,\n",
       "    'profile_background_color': 'BDBDBD',\n",
       "    'profile_background_image_url': 'http://abs.twimg.com/images/themes/theme19/bg.gif',\n",
       "    'profile_background_image_url_https': 'https://abs.twimg.com/images/themes/theme19/bg.gif',\n",
       "    'profile_background_tile': False,\n",
       "    'profile_link_color': 'BDBDBD',\n",
       "    'profile_sidebar_border_color': 'FFFFFF',\n",
       "    'profile_sidebar_fill_color': 'FFFFB5',\n",
       "    'profile_text_color': '242424',\n",
       "    'profile_use_background_image': False,\n",
       "    'profile_image_url': 'http://pbs.twimg.com/profile_images/1136681927057039362/0TTcjIFK_normal.png',\n",
       "    'profile_image_url_https': 'https://pbs.twimg.com/profile_images/1136681927057039362/0TTcjIFK_normal.png',\n",
       "    'profile_banner_url': 'https://pbs.twimg.com/profile_banners/126955629/1528179873',\n",
       "    'default_profile': False,\n",
       "    'default_profile_image': False,\n",
       "    'following': None,\n",
       "    'follow_request_sent': None,\n",
       "    'notifications': None},\n",
       "   'geo': None,\n",
       "   'coordinates': None,\n",
       "   'place': None,\n",
       "   'contributors': None,\n",
       "   'is_quote_status': False,\n",
       "   'quote_count': 1889,\n",
       "   'reply_count': 2343,\n",
       "   'retweet_count': 4236,\n",
       "   'favorite_count': 14616,\n",
       "   'entities': {'hashtags': [],\n",
       "    'urls': [],\n",
       "    'user_mentions': [],\n",
       "    'symbols': [],\n",
       "    'media': [{'id': 1248225479955337217,\n",
       "      'id_str': '1248225479955337217',\n",
       "      'indices': [75, 98],\n",
       "      'media_url': 'http://pbs.twimg.com/media/EVKWdexUUAEwBZp.jpg',\n",
       "      'media_url_https': 'https://pbs.twimg.com/media/EVKWdexUUAEwBZp.jpg',\n",
       "      'url': 'https://t.co/vsTT9Ho6To',\n",
       "      'display_url': 'pic.twitter.com/vsTT9Ho6To',\n",
       "      'expanded_url': 'https://twitter.com/KagutaMuseveni/status/1248228289006702592/photo/1',\n",
       "      'type': 'photo',\n",
       "      'sizes': {'large': {'w': 2048, 'h': 1211, 'resize': 'fit'},\n",
       "       'thumb': {'w': 150, 'h': 150, 'resize': 'crop'},\n",
       "       'medium': {'w': 1200, 'h': 710, 'resize': 'fit'},\n",
       "       'small': {'w': 680, 'h': 402, 'resize': 'fit'}}}]},\n",
       "   'extended_entities': {'media': [{'id': 1248225479955337217,\n",
       "      'id_str': '1248225479955337217',\n",
       "      'indices': [75, 98],\n",
       "      'media_url': 'http://pbs.twimg.com/media/EVKWdexUUAEwBZp.jpg',\n",
       "      'media_url_https': 'https://pbs.twimg.com/media/EVKWdexUUAEwBZp.jpg',\n",
       "      'url': 'https://t.co/vsTT9Ho6To',\n",
       "      'display_url': 'pic.twitter.com/vsTT9Ho6To',\n",
       "      'expanded_url': 'https://twitter.com/KagutaMuseveni/status/1248228289006702592/photo/1',\n",
       "      'type': 'photo',\n",
       "      'sizes': {'large': {'w': 2048, 'h': 1211, 'resize': 'fit'},\n",
       "       'thumb': {'w': 150, 'h': 150, 'resize': 'crop'},\n",
       "       'medium': {'w': 1200, 'h': 710, 'resize': 'fit'},\n",
       "       'small': {'w': 680, 'h': 402, 'resize': 'fit'}}},\n",
       "     {'id': 1248225479917580290,\n",
       "      'id_str': '1248225479917580290',\n",
       "      'indices': [75, 98],\n",
       "      'media_url': 'http://pbs.twimg.com/media/EVKWdeoUMAI0Hol.jpg',\n",
       "      'media_url_https': 'https://pbs.twimg.com/media/EVKWdeoUMAI0Hol.jpg',\n",
       "      'url': 'https://t.co/vsTT9Ho6To',\n",
       "      'display_url': 'pic.twitter.com/vsTT9Ho6To',\n",
       "      'expanded_url': 'https://twitter.com/KagutaMuseveni/status/1248228289006702592/photo/1',\n",
       "      'type': 'photo',\n",
       "      'sizes': {'medium': {'w': 1200, 'h': 685, 'resize': 'fit'},\n",
       "       'small': {'w': 680, 'h': 388, 'resize': 'fit'},\n",
       "       'thumb': {'w': 150, 'h': 150, 'resize': 'crop'},\n",
       "       'large': {'w': 2048, 'h': 1169, 'resize': 'fit'}}}]},\n",
       "   'favorited': False,\n",
       "   'retweeted': False,\n",
       "   'possibly_sensitive': False,\n",
       "   'filter_level': 'low',\n",
       "   'lang': 'en'},\n",
       "  'quoted_status_permalink': {'url': 'https://t.co/KlDZSEQn2S',\n",
       "   'expanded': 'https://twitter.com/KagutaMuseveni/status/1248228289006702592',\n",
       "   'display': 'twitter.com/KagutaMuseveni…'},\n",
       "  'is_quote_status': True,\n",
       "  'quote_count': 0,\n",
       "  'reply_count': 0,\n",
       "  'retweet_count': 0,\n",
       "  'favorite_count': 0,\n",
       "  'entities': {'hashtags': [{'text': 'StayAtHome', 'indices': [126, 137]}],\n",
       "   'urls': [],\n",
       "   'user_mentions': [{'screen_name': 'OleItumbi',\n",
       "     'name': 'Dennis Itumbi, HSC',\n",
       "     'id': 68382599,\n",
       "     'id_str': '68382599',\n",
       "     'indices': [3, 13]},\n",
       "    {'screen_name': 'KagutaMuseveni',\n",
       "     'name': 'Yoweri K Museveni',\n",
       "     'id': 126955629,\n",
       "     'id_str': '126955629',\n",
       "     'indices': [33, 48]}],\n",
       "   'symbols': []},\n",
       "  'favorited': False,\n",
       "  'retweeted': False,\n",
       "  'filter_level': 'low',\n",
       "  'lang': 'en',\n",
       "  'timestamp_ms': '1586445738321'}]"
      ]
     },
     "execution_count": 17,
     "metadata": {},
     "output_type": "execute_result"
    }
   ],
   "source": [
    "#I just want to have a look at some of the variables kept in the dictionaries\n",
    "#form there I can see what to pull out of the data.\n",
    "#we managed to download 885 tweets.\n",
    "tweets_data[:1]"
   ]
  },
  {
   "cell_type": "code",
   "execution_count": 18,
   "metadata": {},
   "outputs": [],
   "source": [
    "from datetime import datetime\n",
    "\n",
    "errors = []\n",
    "def gettext(tweet,element):\n",
    "    try:\n",
    "        return tweet[element]\n",
    "    except KeyError:\n",
    "        errors.append(tweet)\n",
    "        pass\n",
    "\n",
    "# Getting the data and texts along the ways using gettext\n",
    "tweets = pd.DataFrame()\n",
    "tweets['text'] = [gettext(tweet,'text') for tweet in tweets_data]\n",
    "tweets['lang'] = [gettext(tweet,'lang') for tweet in tweets_data]\n",
    "#tweets['user'] = [gettext(tweet,'user') for tweet in tweets_data]\n",
    "tweets['created_at'] = [gettext(tweet,'created_at') for tweet in tweets_data]\n",
    "tweets['created_at'] = pd.to_datetime(tweets['created_at'],errors='ignore')\n",
    "tweets.set_index('created_at',inplace=True)"
   ]
  },
  {
   "cell_type": "code",
   "execution_count": 20,
   "metadata": {},
   "outputs": [
    {
     "data": {
      "text/plain": [
       "(885, 2)"
      ]
     },
     "execution_count": 20,
     "metadata": {},
     "output_type": "execute_result"
    }
   ],
   "source": [
    "tweets.shape"
   ]
  },
  {
   "cell_type": "code",
   "execution_count": null,
   "metadata": {},
   "outputs": [],
   "source": []
  }
 ],
 "metadata": {
  "kernelspec": {
   "display_name": "Python 3",
   "language": "python",
   "name": "python3"
  },
  "language_info": {
   "codemirror_mode": {
    "name": "ipython",
    "version": 3
   },
   "file_extension": ".py",
   "mimetype": "text/x-python",
   "name": "python",
   "nbconvert_exporter": "python",
   "pygments_lexer": "ipython3",
   "version": "3.6.9"
  }
 },
 "nbformat": 4,
 "nbformat_minor": 4
}

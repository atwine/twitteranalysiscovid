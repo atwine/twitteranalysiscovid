{
 "cells": [
  {
   "cell_type": "markdown",
   "metadata": {},
   "source": [
    "# Historical Data\n",
    "\n",
    "I had an issue with tweepy in getting data that is historical.\n",
    "\n",
    "I landed on this application [GetOldTweets](https://github.com/RobbieGeoghegan/Get_Old_Tweets/blob/master/Get_Old_Tweets_Template.ipynb) it is helping me collect as many tweets as possible now my analysis will be better.\n",
    "\n",
    "[Modified OldTweets](https://github.com/marquisvictor/Optimized-Modified-GetOldTweets3-OMGOT)"
   ]
  },
  {
   "cell_type": "code",
   "execution_count": 1,
   "metadata": {},
   "outputs": [],
   "source": [
    "import GetOldTweets3 as got\n",
    "import pandas as pd"
   ]
  },
  {
   "cell_type": "code",
   "execution_count": 2,
   "metadata": {},
   "outputs": [],
   "source": [
    "#create a function to extract twitter information into a pandas df\n",
    "def get_twitter_info():\n",
    "    tweet_df[\"tweet_text\"] = tweet_df[\"got_criteria\"].apply(lambda x: x.text)\n",
    "    tweet_df[\"date\"] = tweet_df[\"got_criteria\"].apply(lambda x: x.date)\n",
    "    tweet_df[\"hashtags\"] = tweet_df[\"got_criteria\"].apply(lambda x: x.hashtags)\n",
    "    tweet_df[\"user\"] = tweet_df[\"got_criteria\"].apply(lambda x: x.username)"
   ]
  },
  {
   "cell_type": "markdown",
   "metadata": {},
   "source": [
    "Search by keyword and location"
   ]
  },
  {
   "cell_type": "code",
   "execution_count": 8,
   "metadata": {},
   "outputs": [
    {
     "data": {
      "text/html": [
       "<div>\n",
       "<style scoped>\n",
       "    .dataframe tbody tr th:only-of-type {\n",
       "        vertical-align: middle;\n",
       "    }\n",
       "\n",
       "    .dataframe tbody tr th {\n",
       "        vertical-align: top;\n",
       "    }\n",
       "\n",
       "    .dataframe thead th {\n",
       "        text-align: right;\n",
       "    }\n",
       "</style>\n",
       "<table border=\"1\" class=\"dataframe\">\n",
       "  <thead>\n",
       "    <tr style=\"text-align: right;\">\n",
       "      <th></th>\n",
       "      <th>tweet_text</th>\n",
       "      <th>date</th>\n",
       "      <th>hashtags</th>\n",
       "      <th>link</th>\n",
       "    </tr>\n",
       "  </thead>\n",
       "  <tbody>\n",
       "    <tr>\n",
       "      <th>0</th>\n",
       "      <td>Great work by the Community Health Workers in ...</td>\n",
       "      <td>2020-04-07 23:11:20+00:00</td>\n",
       "      <td>#CHWs #COVID19 #COVID19UG</td>\n",
       "      <td>https://twitter.com/NFilimin/status/1247663276...</td>\n",
       "    </tr>\n",
       "    <tr>\n",
       "      <th>1</th>\n",
       "      <td>Kudos @mtnug @nwscug #COVID19UG</td>\n",
       "      <td>2020-04-07 22:45:02+00:00</td>\n",
       "      <td>#COVID19UG</td>\n",
       "      <td>https://twitter.com/mwijukl/status/12476566577...</td>\n",
       "    </tr>\n",
       "    <tr>\n",
       "      <th>2</th>\n",
       "      <td>I've not seen it yet, Dee. Eish, I don't have ...</td>\n",
       "      <td>2020-04-07 22:26:22+00:00</td>\n",
       "      <td>#COVID19UG</td>\n",
       "      <td>https://twitter.com/NdawulaSchism/status/12476...</td>\n",
       "    </tr>\n",
       "    <tr>\n",
       "      <th>3</th>\n",
       "      <td>The fight against the spread of #COVID19UG con...</td>\n",
       "      <td>2020-04-07 21:43:41+00:00</td>\n",
       "      <td>#COVID19UG #STAYSAFEUG #LockdownUg</td>\n",
       "      <td>https://twitter.com/ikyomuhendo/status/1247641...</td>\n",
       "    </tr>\n",
       "    <tr>\n",
       "      <th>4</th>\n",
       "      <td>PROF WASSWA BALUNYWA: Challenges of Leadership...</td>\n",
       "      <td>2020-04-07 20:14:56+00:00</td>\n",
       "      <td>#Covid19 #covid19UG #leadership #Lessons #Poli...</td>\n",
       "      <td>https://twitter.com/watchdogug/status/12476188...</td>\n",
       "    </tr>\n",
       "  </tbody>\n",
       "</table>\n",
       "</div>"
      ],
      "text/plain": [
       "                                          tweet_text  \\\n",
       "0  Great work by the Community Health Workers in ...   \n",
       "1                    Kudos @mtnug @nwscug #COVID19UG   \n",
       "2  I've not seen it yet, Dee. Eish, I don't have ...   \n",
       "3  The fight against the spread of #COVID19UG con...   \n",
       "4  PROF WASSWA BALUNYWA: Challenges of Leadership...   \n",
       "\n",
       "                       date  \\\n",
       "0 2020-04-07 23:11:20+00:00   \n",
       "1 2020-04-07 22:45:02+00:00   \n",
       "2 2020-04-07 22:26:22+00:00   \n",
       "3 2020-04-07 21:43:41+00:00   \n",
       "4 2020-04-07 20:14:56+00:00   \n",
       "\n",
       "                                            hashtags  \\\n",
       "0                          #CHWs #COVID19 #COVID19UG   \n",
       "1                                         #COVID19UG   \n",
       "2                                         #COVID19UG   \n",
       "3                 #COVID19UG #STAYSAFEUG #LockdownUg   \n",
       "4  #Covid19 #covid19UG #leadership #Lessons #Poli...   \n",
       "\n",
       "                                                link  \n",
       "0  https://twitter.com/NFilimin/status/1247663276...  \n",
       "1  https://twitter.com/mwijukl/status/12476566577...  \n",
       "2  https://twitter.com/NdawulaSchism/status/12476...  \n",
       "3  https://twitter.com/ikyomuhendo/status/1247641...  \n",
       "4  https://twitter.com/watchdogug/status/12476188...  "
      ]
     },
     "execution_count": 8,
     "metadata": {},
     "output_type": "execute_result"
    }
   ],
   "source": [
    "#set keyword, location and search variables\n",
    "# ['#Covid19UG','#Uganda','#STAYSAFEUG','#MonitorUpdates']\n",
    "keyword = '#Covid19UG'\n",
    "location = \"Uganda\"           #users with this location in their Twitter bio will be returned - inaccuracies may exist\n",
    "oldest_date = \"2020-02-01\"    \n",
    "newest_date = \"2020-04-08\"\n",
    "number_tweets = 700            #max number of tweets that will be returned (may be lower depending on availability)\n",
    "#get old tweets\n",
    "tweet_criteria = got.manager.TweetCriteria().setQuerySearch(keyword)\\\n",
    "                                            .setNear(location)\\\n",
    "                                            .setSince(oldest_date)\\\n",
    "                                            .setUntil(newest_date)\\\n",
    "                                            .setMaxTweets(number_tweets)\n",
    "#extract twitter information\n",
    "tweet_df = pd.DataFrame({'got_criteria':got.manager.TweetManager.getTweets(tweet_criteria)})\n",
    "get_twitter_info()\n",
    "tweet_df = tweet_df.drop(\"got_criteria\", 1)\n",
    "tweet_df.head()"
   ]
  },
  {
   "cell_type": "code",
   "execution_count": 9,
   "metadata": {},
   "outputs": [
    {
     "data": {
      "text/plain": [
       "(597, 4)"
      ]
     },
     "execution_count": 9,
     "metadata": {},
     "output_type": "execute_result"
    }
   ],
   "source": [
    "tweet_df.shape"
   ]
  },
  {
   "cell_type": "code",
   "execution_count": 6,
   "metadata": {},
   "outputs": [],
   "source": [
    "tweet_df.to_csv('historical_data.csv')"
   ]
  },
  {
   "cell_type": "code",
   "execution_count": null,
   "metadata": {},
   "outputs": [],
   "source": []
  }
 ],
 "metadata": {
  "kernelspec": {
   "display_name": "Python 3",
   "language": "python",
   "name": "python3"
  },
  "language_info": {
   "codemirror_mode": {
    "name": "ipython",
    "version": 3
   },
   "file_extension": ".py",
   "mimetype": "text/x-python",
   "name": "python",
   "nbconvert_exporter": "python",
   "pygments_lexer": "ipython3",
   "version": "3.6.9"
  }
 },
 "nbformat": 4,
 "nbformat_minor": 4
}

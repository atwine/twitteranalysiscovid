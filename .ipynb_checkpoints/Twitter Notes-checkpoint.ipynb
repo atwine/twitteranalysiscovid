{
 "cells": [
  {
   "cell_type": "markdown",
   "metadata": {},
   "source": [
    "# Twitter Notes \n",
    "\n",
    "By Atwine Mugume\n",
    "\n",
    "I want to create some sort of repository which I am going to use to work on the current contract that involves twitter data.\n",
    "\n",
    "1 - Data Camp Courses on network analysis.\n",
    "\n",
    "2 - GitHub projects that are related to this kind of application; especially those that have an already built app interface.\n",
    "  - I am going to list some of those that I have found on github here below for our reading purposes soon.\n",
    "    \n",
    "       [TwitterSent]( https://github.com/rthorst/TwitterSentiment)\n",
    "        \n",
    "        "
   ]
  },
  {
   "cell_type": "markdown",
   "metadata": {},
   "source": [
    "```\n",
    "import tweepy\n",
    "from textblob import TextBlob\n",
    "\n",
    "ckey = 'lcpwIoF1afnBCMjW0U94jC7nr'\n",
    "csecret ='kbbEcLjs1dSPTPqL37H56PyufF0cfcy7kMxYAcMs9ADe29zBzf'\n",
    "\n",
    "atoken='3500178979-KRsq2qde9Y9qRq1Ja8LXFSzCjyLYVVxEGa9aMxi'\n",
    "asecrettoken='paMPDmbVQRrLXPo8mtiSMWgDyMGvDSYljKZBYqK2TgCGW'\n",
    "\n",
    "auth = tweepy.OAuthHandler(ckey,csecret)\n",
    "auth.set_access_token(atoken,asecrettoken)\n",
    "\n",
    "api = tweepy.API(auth)\n",
    "\n",
    "print (\"twitter sentiment analysis bot running...\")\n",
    "searchword=input(\"please enter search world to find sentiments for..\")\n",
    "\n",
    "tweets = api.search(searchword)\n",
    "\n",
    "for tweet in tweepy.Cursor(api.search,\n",
    "                           q=\"google\",\n",
    "                           count=100,\n",
    "                           result_type=\"recent\",\n",
    "                           include_entities=True,\n",
    "                           lang=\"en\").items():\n",
    "    print(tweet.text)\n",
    "    analysis = TextBlob(tweet.text)\n",
    "    print(analysis.sentiment)\n",
    "  \n",
    "```\n",
    "\n",
    "I am keeping this here for the sake of getting the authenticatio API key and tokens that I can use later in the pgoject."
   ]
  },
  {
   "cell_type": "code",
   "execution_count": null,
   "metadata": {},
   "outputs": [],
   "source": []
  }
 ],
 "metadata": {
  "kernelspec": {
   "display_name": "Python 3",
   "language": "python",
   "name": "python3"
  },
  "language_info": {
   "codemirror_mode": {
    "name": "ipython",
    "version": 3
   },
   "file_extension": ".py",
   "mimetype": "text/x-python",
   "name": "python",
   "nbconvert_exporter": "python",
   "pygments_lexer": "ipython3",
   "version": "3.6.9"
  }
 },
 "nbformat": 4,
 "nbformat_minor": 2
}
